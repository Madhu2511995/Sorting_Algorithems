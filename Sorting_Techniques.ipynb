{
  "cells": [
    {
      "cell_type": "markdown",
      "metadata": {
        "id": "zX5VKdLb7Wmj"
      },
      "source": [
        "# **Selection Sort**"
      ]
    },
    {
      "cell_type": "code",
      "execution_count": null,
      "metadata": {
        "colab": {
          "base_uri": "https://localhost:8080/"
        },
        "id": "OM9Mz0i37bjj",
        "outputId": "01b3f6bf-8db6-4844-b1ec-a845ee35d773"
      },
      "outputs": [
        {
          "data": {
            "text/plain": [
              "[9, 13, 20, 24, 46, 52]"
            ]
          },
          "execution_count": 13,
          "metadata": {},
          "output_type": "execute_result"
        }
      ],
      "source": [
        "# Select Min value and place it at first index\n",
        "# TC O(n^2)\n",
        "arr=[13,46,24,52,20,9]\n",
        "def sortSelection(arr):\n",
        "  n=len(arr)\n",
        "  for i in range(n-1):\n",
        "    min=i\n",
        "    for j in range(i,n):\n",
        "      if arr[j]<arr[min]:\n",
        "        min=j\n",
        "    temp=arr[min]\n",
        "    arr[min]=arr[i]\n",
        "    arr[i]=temp\n",
        "\n",
        "  return arr\n",
        "sortSelection(arr)\n"
      ]
    },
    {
      "cell_type": "markdown",
      "metadata": {
        "id": "mYrK3mM1hf21"
      },
      "source": [
        "# **Bubble Sort**"
      ]
    },
    {
      "cell_type": "code",
      "execution_count": null,
      "metadata": {
        "colab": {
          "base_uri": "https://localhost:8080/"
        },
        "id": "jdfR32KR7bsg",
        "outputId": "4981c87b-a43a-4975-9285-2aa8de1bff77"
      },
      "outputs": [
        {
          "data": {
            "text/plain": [
              "[9, 13, 20, 24, 46, 52]"
            ]
          },
          "execution_count": 44,
          "metadata": {},
          "output_type": "execute_result"
        }
      ],
      "source": [
        "# Push max value at last index by adjacent swap\n",
        "# TC O(n^2)\n",
        "arr=[13,46,24,52,20,9]\n",
        "def bubblSort(arr):\n",
        "  n=len(arr)\n",
        "  for i in range(n-1,-1,-1):\n",
        "    for j in range(0,i,1):\n",
        "      if arr[j]>arr[j+1]:\n",
        "        temp=arr[j]\n",
        "        arr[j]=arr[j+1]\n",
        "        arr[j+1]=temp\n",
        "  return arr\n",
        "bubblSort(arr)\n"
      ]
    },
    {
      "cell_type": "markdown",
      "metadata": {
        "id": "QP3lc5MCuKtZ"
      },
      "source": [
        "**In Best Case**"
      ]
    },
    {
      "cell_type": "code",
      "execution_count": null,
      "metadata": {
        "colab": {
          "base_uri": "https://localhost:8080/"
        },
        "id": "1YQSXcxj7byJ",
        "outputId": "e90a1d10-2fad-41d4-e096-13e7ba5a7396"
      },
      "outputs": [
        {
          "data": {
            "text/plain": [
              "[1, 2, 3, 4, 5]"
            ]
          },
          "execution_count": 47,
          "metadata": {},
          "output_type": "execute_result"
        }
      ],
      "source": [
        "arr=[1,2,3,4,5]\n",
        "def bubblSort(arr):\n",
        "  n=len(arr)\n",
        "  for i in range(n-1,-1,-1):\n",
        "    swap=0\n",
        "    for j in range(0,i,1):\n",
        "      if arr[j]>arr[j+1]:\n",
        "        temp=arr[j]\n",
        "        arr[j]=arr[j+1]\n",
        "        arr[j+1]=temp\n",
        "        swap=1\n",
        "    if swap==0:\n",
        "      break\n",
        "  return arr\n",
        "bubblSort(arr)"
      ]
    },
    {
      "cell_type": "markdown",
      "metadata": {
        "id": "cGMryktExmKL"
      },
      "source": [
        "# **Insertation Sort**"
      ]
    },
    {
      "cell_type": "code",
      "execution_count": null,
      "metadata": {
        "colab": {
          "base_uri": "https://localhost:8080/"
        },
        "id": "sXFQ0JvE7b0-",
        "outputId": "7ca63285-2965-4b0c-bea6-dcc25808111a"
      },
      "outputs": [
        {
          "data": {
            "text/plain": [
              "[9, 13, 20, 24, 46, 52]"
            ]
          },
          "execution_count": 48,
          "metadata": {},
          "output_type": "execute_result"
        }
      ],
      "source": [
        "# Select any value and place it at right position\n",
        "# TC O(n^2)\n",
        "arr=[13,46,24,52,20,9]\n",
        "def insertationSort(arr):\n",
        "  n=len(arr)\n",
        "  for i in range(n):\n",
        "    j=i\n",
        "    while j>0 and arr[j-1]>arr[j]:\n",
        "      temp=arr[j-1]\n",
        "      arr[j-1]=arr[j]\n",
        "      arr[j]=temp\n",
        "      j-=1\n",
        "  return arr\n",
        "insertationSort(arr)"
      ]
    },
    {
      "cell_type": "markdown",
      "metadata": {
        "id": "2eKODRF2-zrD"
      },
      "source": [
        "# **Merge Sort**"
      ]
    },
    {
      "cell_type": "code",
      "execution_count": null,
      "metadata": {
        "id": "7ms6zA-E7b3i"
      },
      "outputs": [],
      "source": [
        "# Merge Short\n",
        "# TC O(nlogn)\n",
        "def merge(arr,low,mid,high):\n",
        "  temp=[]\n",
        "  left=low\n",
        "  right=mid+1\n",
        "  while(left<=mid and right <=high):\n",
        "    if arr[left]<=arr[right]:\n",
        "      temp.append(arr[left])\n",
        "      left+=1\n",
        "    else:\n",
        "      temp.append(arr[right])\n",
        "      right+=1\n",
        "  while(left<=mid):\n",
        "    temp.append(arr[left])\n",
        "    left+=1\n",
        "  while(right<=high):\n",
        "    temp.append(arr[right])\n",
        "    right+=1\n",
        "  for i  in range(low,high+1):\n",
        "    arr[i]=temp[i-low]\n",
        "\n",
        "\n",
        "import math\n",
        "def mergeSort(arr,low,high):\n",
        "  if low==high:\n",
        "    return\n",
        "  mid=(low+high)//2\n",
        "  mergeSort(arr,low,mid)\n",
        "  mergeSort(arr,mid+1,high)\n",
        "  merge(arr,low,mid,high)\n",
        "  return arr\n",
        "\n",
        "\n",
        "arr=[3,1,2,4,1,5,2,6,4]\n",
        "low=0\n",
        "high=len(arr)-1\n",
        "mergeSort(arr,low,high)"
      ]
    },
    {
      "cell_type": "markdown",
      "metadata": {
        "id": "NmEq96ey_czG"
      },
      "source": [
        "# **Quick Sort**"
      ]
    },
    {
      "cell_type": "code",
      "execution_count": 5,
      "metadata": {
        "colab": {
          "base_uri": "https://localhost:8080/"
        },
        "id": "7WCdAzeM_iDR",
        "outputId": "bd5d8258-83ec-4000-ccc5-1dcb419de23e"
      },
      "outputs": [
        {
          "data": {
            "text/plain": [
              "[1, 2, 3, 4, 7, 5, 6, 9]"
            ]
          },
          "execution_count": 5,
          "metadata": {},
          "output_type": "execute_result"
        }
      ],
      "source": [
        "# TC O(nlog(n))\n",
        "arr=[4,6,2,5,7,9,1,3]\n",
        "def quickSort(arr,low=0,high=len(arr)-1):\n",
        "  if low<high:\n",
        "    pIndex=partation(arr,low,high)\n",
        "    quickSort(arr,low,pIndex-1)\n",
        "    quickSort(arr,pIndex+1,high)\n",
        "  return arr\n",
        "def partation(arr,low,high):\n",
        "  pivot=arr[low]\n",
        "  i=low\n",
        "  j=high\n",
        "  while i<j:\n",
        "    while arr[i]<=pivot and i<=high-1:\n",
        "      i+=1\n",
        "    while arr[j]>pivot and j>=low+1:\n",
        "      j-=1\n",
        "    if i<j:\n",
        "      temp=arr[i]\n",
        "      arr[i]=arr[j]\n",
        "      arr[j]=temp\n",
        "    temp=arr[low]\n",
        "    arr[low]=arr[j]\n",
        "    arr[j]=temp\n",
        "  return j\n",
        "quickSort(arr)"
      ]
    },
    {
      "cell_type": "code",
      "execution_count": null,
      "metadata": {
        "id": "LIcAItAV_iX-"
      },
      "outputs": [],
      "source": []
    }
  ],
  "metadata": {
    "colab": {
      "provenance": []
    },
    "kernelspec": {
      "display_name": "Python 3",
      "name": "python3"
    },
    "language_info": {
      "name": "python"
    }
  },
  "nbformat": 4,
  "nbformat_minor": 0
}
