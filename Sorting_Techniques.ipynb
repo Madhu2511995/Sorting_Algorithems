{
  "nbformat": 4,
  "nbformat_minor": 0,
  "metadata": {
    "colab": {
      "provenance": []
    },
    "kernelspec": {
      "name": "python3",
      "display_name": "Python 3"
    },
    "language_info": {
      "name": "python"
    }
  },
  "cells": [
    {
      "cell_type": "markdown",
      "source": [
        "# **Selection Sort**"
      ],
      "metadata": {
        "id": "zX5VKdLb7Wmj"
      }
    },
    {
      "cell_type": "code",
      "source": [
        "arr=[13,46,24,52,20,9]\n",
        "def sortSelection(arr):\n",
        "  n=len(arr)\n",
        "  for i in range(n-1):\n",
        "    min=i\n",
        "    for j in range(i,n):\n",
        "      if arr[j]<arr[min]:\n",
        "        min=j\n",
        "    temp=arr[min]\n",
        "    arr[min]=arr[i]\n",
        "    arr[i]=temp\n",
        "\n",
        "  return arr\n",
        "sortSelection(arr)\n"
      ],
      "metadata": {
        "id": "OM9Mz0i37bjj",
        "colab": {
          "base_uri": "https://localhost:8080/"
        },
        "outputId": "01b3f6bf-8db6-4844-b1ec-a845ee35d773"
      },
      "execution_count": null,
      "outputs": [
        {
          "output_type": "execute_result",
          "data": {
            "text/plain": [
              "[9, 13, 20, 24, 46, 52]"
            ]
          },
          "metadata": {},
          "execution_count": 13
        }
      ]
    },
    {
      "cell_type": "markdown",
      "source": [
        "# **Bubble Sort**"
      ],
      "metadata": {
        "id": "mYrK3mM1hf21"
      }
    },
    {
      "cell_type": "code",
      "source": [
        "arr=[13,46,24,52,20,9]\n",
        "def bubblSort(arr):\n",
        "  n=len(arr)\n",
        "  for i in range(n-1,-1,-1):\n",
        "    for j in range(0,i,1):\n",
        "      if arr[j]>arr[j+1]:\n",
        "        temp=arr[j]\n",
        "        arr[j]=arr[j+1]\n",
        "        arr[j+1]=temp\n",
        "  return arr\n",
        "bubblSort(arr)\n"
      ],
      "metadata": {
        "id": "jdfR32KR7bsg",
        "colab": {
          "base_uri": "https://localhost:8080/"
        },
        "outputId": "4981c87b-a43a-4975-9285-2aa8de1bff77"
      },
      "execution_count": null,
      "outputs": [
        {
          "output_type": "execute_result",
          "data": {
            "text/plain": [
              "[9, 13, 20, 24, 46, 52]"
            ]
          },
          "metadata": {},
          "execution_count": 44
        }
      ]
    },
    {
      "cell_type": "markdown",
      "source": [
        "**In Best Case**"
      ],
      "metadata": {
        "id": "QP3lc5MCuKtZ"
      }
    },
    {
      "cell_type": "code",
      "source": [
        "arr=[1,2,3,4,5]\n",
        "def bubblSort(arr):\n",
        "  n=len(arr)\n",
        "  for i in range(n-1,-1,-1):\n",
        "    swap=0\n",
        "    for j in range(0,i,1):\n",
        "      if arr[j]>arr[j+1]:\n",
        "        temp=arr[j]\n",
        "        arr[j]=arr[j+1]\n",
        "        arr[j+1]=temp\n",
        "        swap=1\n",
        "    if swap==0:\n",
        "      break\n",
        "  return arr\n",
        "bubblSort(arr)"
      ],
      "metadata": {
        "id": "1YQSXcxj7byJ",
        "colab": {
          "base_uri": "https://localhost:8080/"
        },
        "outputId": "e90a1d10-2fad-41d4-e096-13e7ba5a7396"
      },
      "execution_count": null,
      "outputs": [
        {
          "output_type": "execute_result",
          "data": {
            "text/plain": [
              "[1, 2, 3, 4, 5]"
            ]
          },
          "metadata": {},
          "execution_count": 47
        }
      ]
    },
    {
      "cell_type": "markdown",
      "source": [
        "# **Insertation Sort**"
      ],
      "metadata": {
        "id": "cGMryktExmKL"
      }
    },
    {
      "cell_type": "code",
      "source": [
        "arr=[13,46,24,52,20,9]\n",
        "def insertationSort(arr):\n",
        "  n=len(arr)\n",
        "  for i in range(n):\n",
        "    j=i\n",
        "    while j>0 and arr[j-1]>arr[j]:\n",
        "      temp=arr[j-1]\n",
        "      arr[j-1]=arr[j]\n",
        "      arr[j]=temp\n",
        "      j-=1\n",
        "  return arr\n",
        "insertationSort(arr)"
      ],
      "metadata": {
        "id": "sXFQ0JvE7b0-",
        "colab": {
          "base_uri": "https://localhost:8080/"
        },
        "outputId": "7ca63285-2965-4b0c-bea6-dcc25808111a"
      },
      "execution_count": null,
      "outputs": [
        {
          "output_type": "execute_result",
          "data": {
            "text/plain": [
              "[9, 13, 20, 24, 46, 52]"
            ]
          },
          "metadata": {},
          "execution_count": 48
        }
      ]
    },
    {
      "cell_type": "markdown",
      "source": [
        "# **Merge Sort**"
      ],
      "metadata": {
        "id": "2eKODRF2-zrD"
      }
    },
    {
      "cell_type": "code",
      "source": [
        "# Merge Short\n",
        "def merge(arr,low,mid,high):\n",
        "  temp=[]\n",
        "  left=low\n",
        "  right=mid+1\n",
        "  while(left<=mid and right <=high):\n",
        "    if arr[left]<=arr[right]:\n",
        "      temp.append(arr[left])\n",
        "      left+=1\n",
        "    else:\n",
        "      temp.append(arr[right])\n",
        "      right+=1\n",
        "  while(left<=mid):\n",
        "    temp.append(arr[left])\n",
        "    left+=1\n",
        "  while(right<=high):\n",
        "    temp.append(arr[right])\n",
        "    right+=1\n",
        "  for i  in range(low,high+1):\n",
        "    arr[i]=temp[i-low]\n",
        "\n",
        "\n",
        "import math\n",
        "def mergeSort(arr,low,high):\n",
        "  if low==high:\n",
        "    return\n",
        "  mid=(low+high)//2\n",
        "  mergeSort(arr,low,mid)\n",
        "  mergeSort(arr,mid+1,high)\n",
        "  merge(arr,low,mid,high)\n",
        "  return arr\n",
        "\n",
        "\n",
        "arr=[3,1,2,4,1,5,2,6,4]\n",
        "low=0\n",
        "high=len(arr)-1\n",
        "mergeSort(arr,low,high)"
      ],
      "metadata": {
        "id": "7ms6zA-E7b3i"
      },
      "execution_count": null,
      "outputs": []
    },
    {
      "cell_type": "markdown",
      "source": [
        "# **Quick Sort**"
      ],
      "metadata": {
        "id": "NmEq96ey_czG"
      }
    },
    {
      "cell_type": "code",
      "source": [
        "arr=[4,6,2,5,7,9,1,3]\n",
        "def quickSort(arr,low=0,high=len(arr)-1):\n",
        "  if low<high:\n",
        "    pIndex=partation(arr,low,high)\n",
        "    quickSort(arr,low,pIndex-1)\n",
        "    quickSort(arr,pIndex+1,high)\n",
        "  return arr\n",
        "def partation(arr,low,high):\n",
        "  pivot=arr[low]\n",
        "  i=low\n",
        "  j=high\n",
        "  while i<j:\n",
        "    while arr[i]<=pivot and i<=high-1:\n",
        "      i+=1\n",
        "    while arr[j]>pivot and j>=low+1:\n",
        "      j-=1\n",
        "    if i<j:\n",
        "      temp=arr[i]\n",
        "      arr[i]=arr[j]\n",
        "      arr[j]=temp\n",
        "    temp=arr[low]\n",
        "    arr[low]=arr[j]\n",
        "    arr[j]=temp\n",
        "  return j\n",
        "quickSort(arr)"
      ],
      "metadata": {
        "colab": {
          "base_uri": "https://localhost:8080/"
        },
        "id": "7WCdAzeM_iDR",
        "outputId": "bd5d8258-83ec-4000-ccc5-1dcb419de23e"
      },
      "execution_count": 5,
      "outputs": [
        {
          "output_type": "execute_result",
          "data": {
            "text/plain": [
              "[1, 2, 3, 4, 7, 5, 6, 9]"
            ]
          },
          "metadata": {},
          "execution_count": 5
        }
      ]
    },
    {
      "cell_type": "code",
      "source": [],
      "metadata": {
        "id": "LIcAItAV_iX-"
      },
      "execution_count": null,
      "outputs": []
    }
  ]
}